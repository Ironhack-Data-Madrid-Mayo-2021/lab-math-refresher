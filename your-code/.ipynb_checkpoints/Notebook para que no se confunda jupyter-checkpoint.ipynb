{
 "cells": [
  {
   "cell_type": "code",
   "execution_count": 1,
   "id": "051879d2",
   "metadata": {},
   "outputs": [],
   "source": [
    "import matplotlib.pyplot as plt\n",
    "import math\n",
    "import numpy as np\n",
    "from sympy import symbols, Eq, solve"
   ]
  },
  {
   "cell_type": "code",
   "execution_count": 2,
   "id": "a3414ed1",
   "metadata": {},
   "outputs": [],
   "source": [
    "\n",
    "x = np.linspace(\n",
    "    start=-10, \n",
    "    stop=10, \n",
    "    num=300\n",
    ")"
   ]
  },
  {
   "cell_type": "code",
   "execution_count": 3,
   "id": "11207dac",
   "metadata": {},
   "outputs": [],
   "source": [
    "def initialize_grid(figsize=(6, 6)):\n",
    "    fig, ax = plt.subplots(figsize=figsize)\n",
    "    \n",
    "    # where do we want lines\n",
    "    ticks = np.arange(-10, 10, 1)\n",
    "    \n",
    "    # draw grid\n",
    "    ax.set_xticks(ticks)\n",
    "    ax.set_yticks(ticks)\n",
    "    ax.grid(True, which='both')\n",
    "    \n",
    "    # 1-1 X and Y proportion\n",
    "    ax.set_aspect('equal')\n",
    "    \n",
    "    # X and Y axes\n",
    "    ax.axhline(y=0, color='k')\n",
    "    ax.axvline(x=0, color='k')\n",
    "    \n",
    "    # set axes' limits\n",
    "    ax.set_xlim([-10, 10])\n",
    "    ax.set_ylim([-10, 10])"
   ]
  },
  {
   "cell_type": "code",
   "execution_count": 5,
   "id": "bc7bdf2e",
   "metadata": {},
   "outputs": [],
   "source": [
    "#sin grid \n",
    "\n",
    "y2 = x ** 2 - 3 * x - 10\n",
    "y3 = x ** 3 - 2 * x ** 2 + 5 * x +1\n",
    "y4 = x ** 4 - x ** 3 - x ** 2 - x + 1"
   ]
  },
  {
   "cell_type": "markdown",
   "id": "665bcfa5",
   "metadata": {},
   "source": [
    "2.3. Give 3 points through which  𝑦1  goes through"
   ]
  },
  {
   "cell_type": "code",
   "execution_count": 7,
   "id": "dacf5114",
   "metadata": {},
   "outputs": [
    {
     "data": {
      "text/plain": [
       "(1, -1)"
      ]
     },
     "execution_count": 7,
     "metadata": {},
     "output_type": "execute_result"
    }
   ],
   "source": [
    "#Point 1\n",
    "\n",
    "x = 1\n",
    "\n",
    "y1 = 2 * x - 3\n",
    "\n",
    "x,y1"
   ]
  },
  {
   "cell_type": "code",
   "execution_count": 8,
   "id": "a329426c",
   "metadata": {},
   "outputs": [
    {
     "data": {
      "text/plain": [
       "(2, 1)"
      ]
     },
     "execution_count": 8,
     "metadata": {},
     "output_type": "execute_result"
    }
   ],
   "source": [
    "#Point 2\n",
    "\n",
    "x = 2\n",
    "y1 = 2 * x - 3 \n",
    "x,y1"
   ]
  },
  {
   "cell_type": "code",
   "execution_count": 9,
   "id": "bc336a42",
   "metadata": {},
   "outputs": [
    {
     "data": {
      "text/plain": [
       "(3, 3)"
      ]
     },
     "execution_count": 9,
     "metadata": {},
     "output_type": "execute_result"
    }
   ],
   "source": [
    "#Point 3\n",
    "x = 3 \n",
    "y1 = 2 * x - 3\n",
    "x,y1"
   ]
  },
  {
   "cell_type": "markdown",
   "id": "7d87e170",
   "metadata": {},
   "source": [
    "### 2.4. Where do they intersect?"
   ]
  },
  {
   "cell_type": "code",
   "execution_count": 10,
   "id": "b71d29eb",
   "metadata": {},
   "outputs": [],
   "source": [
    "# A mano lo que estamos haciendo es resolver la siguiente ecuación: \n",
    "# 2 * x - 3 =  -3 * x + 12\n",
    "# Sabemos que da 3 "
   ]
  },
  {
   "cell_type": "code",
   "execution_count": null,
   "id": "523a976a",
   "metadata": {},
   "outputs": [],
   "source": [
    "# Buscando en internet encontramos una función que nos lo resuelve "
   ]
  },
  {
   "cell_type": "code",
   "execution_count": 11,
   "id": "c1a556f4",
   "metadata": {},
   "outputs": [],
   "source": [
    "x,y = symbols('x y')"
   ]
  },
  {
   "cell_type": "code",
   "execution_count": 12,
   "id": "e26f473e",
   "metadata": {},
   "outputs": [
    {
     "name": "stderr",
     "output_type": "stream",
     "text": [
      "/usr/local/Caskroom/miniconda/base/lib/python3.8/site-packages/sympy/core/relational.py:495: SymPyDeprecationWarning: \n",
      "\n",
      "Eq(expr) with rhs default to 0 has been deprecated since SymPy 1.5.\n",
      "Use Eq(expr, 0) instead. See\n",
      "https://github.com/sympy/sympy/issues/16587 for more info.\n",
      "\n",
      "  SymPyDeprecationWarning(\n"
     ]
    }
   ],
   "source": [
    "eq1 = Eq(2 * x - 3 - y) \n",
    "eq2 = Eq(-3 * x + 12 - y)"
   ]
  },
  {
   "cell_type": "code",
   "execution_count": 14,
   "id": "439e3204",
   "metadata": {},
   "outputs": [
    {
     "data": {
      "text/plain": [
       "{x: 3, y: 3}"
      ]
     },
     "execution_count": 14,
     "metadata": {},
     "output_type": "execute_result"
    }
   ],
   "source": [
    "solve((eq1,eq2), (x,y))"
   ]
  },
  {
   "cell_type": "code",
   "execution_count": null,
   "id": "dc17f01c",
   "metadata": {},
   "outputs": [],
   "source": []
  },
  {
   "cell_type": "code",
   "execution_count": 15,
   "id": "3856cb4f",
   "metadata": {},
   "outputs": [],
   "source": [
    "#Volvemos al main jupyter "
   ]
  },
  {
   "cell_type": "markdown",
   "id": "6f6fd175",
   "metadata": {},
   "source": [
    "### 3.4. Where does $y_2$ intersect X axis? And Y axis?"
   ]
  },
  {
   "cell_type": "code",
   "execution_count": 22,
   "id": "3934efc9",
   "metadata": {},
   "outputs": [],
   "source": [
    "# y2 intersecciona con la y cuando x vale 0 "
   ]
  },
  {
   "cell_type": "code",
   "execution_count": 41,
   "id": "d29701b1",
   "metadata": {},
   "outputs": [],
   "source": [
    "x = 0"
   ]
  },
  {
   "cell_type": "code",
   "execution_count": 42,
   "id": "c6ac8dd2",
   "metadata": {},
   "outputs": [
    {
     "data": {
      "text/plain": [
       "-10"
      ]
     },
     "execution_count": 42,
     "metadata": {},
     "output_type": "execute_result"
    }
   ],
   "source": [
    "y2"
   ]
  },
  {
   "cell_type": "code",
   "execution_count": 43,
   "id": "14d9bc31",
   "metadata": {},
   "outputs": [],
   "source": [
    "# A veces me da el array y otras veces el resultado, a mano."
   ]
  },
  {
   "cell_type": "code",
   "execution_count": 37,
   "id": "c291facf",
   "metadata": {},
   "outputs": [],
   "source": [
    "y2 = 0 ** 2 - 3 * 0 - 10"
   ]
  },
  {
   "cell_type": "code",
   "execution_count": 44,
   "id": "ae069ec6",
   "metadata": {},
   "outputs": [
    {
     "data": {
      "text/plain": [
       "-10"
      ]
     },
     "execution_count": 44,
     "metadata": {},
     "output_type": "execute_result"
    }
   ],
   "source": [
    "y2"
   ]
  },
  {
   "cell_type": "code",
   "execution_count": null,
   "id": "60ea9efa",
   "metadata": {},
   "outputs": [],
   "source": [
    "# y2 intersecciona con la x cuando y vale 0 "
   ]
  },
  {
   "cell_type": "code",
   "execution_count": 48,
   "id": "e57455cd",
   "metadata": {},
   "outputs": [],
   "source": [
    "x,y = symbols('x y')"
   ]
  },
  {
   "cell_type": "code",
   "execution_count": 58,
   "id": "470ab995",
   "metadata": {},
   "outputs": [],
   "source": [
    "\n",
    "eq1 = Eq(x ** 2 - 3 * x - 10)\n",
    "eq2 = Eq(y)\n"
   ]
  },
  {
   "cell_type": "code",
   "execution_count": 60,
   "id": "23ed3b06",
   "metadata": {},
   "outputs": [
    {
     "data": {
      "text/plain": [
       "[(-2, 0), (5, 0)]"
      ]
     },
     "execution_count": 60,
     "metadata": {},
     "output_type": "execute_result"
    }
   ],
   "source": [
    "solve((eq1,eq2), (x,y))"
   ]
  },
  {
   "cell_type": "markdown",
   "id": "9077dc8e",
   "metadata": {},
   "source": [
    "### 3.5. As x gets very big, what happens to  𝑦  go in each case?"
   ]
  },
  {
   "cell_type": "code",
   "execution_count": 72,
   "id": "b89fa2ad",
   "metadata": {},
   "outputs": [],
   "source": [
    "#Lo hacemos a mano por que lo otro me da error "
   ]
  },
  {
   "cell_type": "code",
   "execution_count": 73,
   "id": "a2058c6d",
   "metadata": {},
   "outputs": [],
   "source": [
    "#Para y2"
   ]
  },
  {
   "cell_type": "code",
   "execution_count": 81,
   "id": "78f20822",
   "metadata": {},
   "outputs": [
    {
     "data": {
      "text/plain": [
       "(0, -10)"
      ]
     },
     "execution_count": 81,
     "metadata": {},
     "output_type": "execute_result"
    }
   ],
   "source": [
    "x = 0 \n",
    "\n",
    "y2 = x ** 2 - 3 * x - 10\n",
    "\n",
    "x,y2"
   ]
  },
  {
   "cell_type": "code",
   "execution_count": 85,
   "id": "da7c5e87",
   "metadata": {},
   "outputs": [
    {
     "data": {
      "text/plain": [
       "(1, -12)"
      ]
     },
     "execution_count": 85,
     "metadata": {},
     "output_type": "execute_result"
    }
   ],
   "source": [
    "x = 1 \n",
    "\n",
    "y2 = x ** 2 - 3 * x - 10\n",
    "\n",
    "x,y2"
   ]
  },
  {
   "cell_type": "code",
   "execution_count": 91,
   "id": "cb5e3170",
   "metadata": {},
   "outputs": [
    {
     "data": {
      "text/plain": [
       "(3, -10)"
      ]
     },
     "execution_count": 91,
     "metadata": {},
     "output_type": "execute_result"
    }
   ],
   "source": [
    "x = 3 \n",
    "\n",
    "y2 = x ** 2 - 3 * x - 10\n",
    "\n",
    "x,y2"
   ]
  },
  {
   "cell_type": "code",
   "execution_count": 103,
   "id": "bb652f46",
   "metadata": {},
   "outputs": [],
   "source": [
    "#Si aumenta x, y también aumenta pero solo un poco, y luego vuelve a disminuir."
   ]
  },
  {
   "cell_type": "code",
   "execution_count": 104,
   "id": "579355fb",
   "metadata": {},
   "outputs": [],
   "source": [
    "# Para y3"
   ]
  },
  {
   "cell_type": "code",
   "execution_count": 99,
   "id": "e5a71f29",
   "metadata": {},
   "outputs": [
    {
     "data": {
      "text/plain": [
       "(0, 1)"
      ]
     },
     "execution_count": 99,
     "metadata": {},
     "output_type": "execute_result"
    }
   ],
   "source": [
    "x = 0 \n",
    "\n",
    "y3 = x ** 3 - 2 * x ** 2 + 5 * x +1\n",
    "\n",
    "x,y3"
   ]
  },
  {
   "cell_type": "code",
   "execution_count": 100,
   "id": "83c21648",
   "metadata": {},
   "outputs": [
    {
     "data": {
      "text/plain": [
       "(1, 5)"
      ]
     },
     "execution_count": 100,
     "metadata": {},
     "output_type": "execute_result"
    }
   ],
   "source": [
    "x = 1 \n",
    "\n",
    "y3 = x ** 3 - 2 * x ** 2 + 5 * x +1\n",
    "\n",
    "x,y3"
   ]
  },
  {
   "cell_type": "code",
   "execution_count": 101,
   "id": "e74fbdd7",
   "metadata": {},
   "outputs": [
    {
     "data": {
      "text/plain": [
       "(2, 11)"
      ]
     },
     "execution_count": 101,
     "metadata": {},
     "output_type": "execute_result"
    }
   ],
   "source": [
    "x = 2 \n",
    "\n",
    "y3 = x ** 3 - 2 * x ** 2 + 5 * x +1\n",
    "\n",
    "x,y3"
   ]
  },
  {
   "cell_type": "code",
   "execution_count": 102,
   "id": "48496319",
   "metadata": {},
   "outputs": [],
   "source": [
    "#Si aumenta x, y también aumenta, más que en el caso de y2. "
   ]
  },
  {
   "cell_type": "code",
   "execution_count": 105,
   "id": "6fdc5475",
   "metadata": {},
   "outputs": [],
   "source": [
    "# Para y4"
   ]
  },
  {
   "cell_type": "code",
   "execution_count": 107,
   "id": "895ca759",
   "metadata": {},
   "outputs": [
    {
     "data": {
      "text/plain": [
       "(0, 1)"
      ]
     },
     "execution_count": 107,
     "metadata": {},
     "output_type": "execute_result"
    }
   ],
   "source": [
    "x = 0 \n",
    "\n",
    "y4 = x ** 4 - x ** 3 - x ** 2 - x + 1\n",
    "\n",
    "x,y4"
   ]
  },
  {
   "cell_type": "code",
   "execution_count": 109,
   "id": "88d6e2ce",
   "metadata": {},
   "outputs": [
    {
     "data": {
      "text/plain": [
       "(1, -1)"
      ]
     },
     "execution_count": 109,
     "metadata": {},
     "output_type": "execute_result"
    }
   ],
   "source": [
    "x = 1 \n",
    "\n",
    "y4 = x ** 4 - x ** 3 - x ** 2 - x + 1\n",
    "\n",
    "x,y4"
   ]
  },
  {
   "cell_type": "code",
   "execution_count": 111,
   "id": "4be09f0b",
   "metadata": {},
   "outputs": [
    {
     "data": {
      "text/plain": [
       "(2, 3)"
      ]
     },
     "execution_count": 111,
     "metadata": {},
     "output_type": "execute_result"
    }
   ],
   "source": [
    "x = 2 \n",
    "\n",
    "y4 = x ** 4 - x ** 3 - x ** 2 - x + 1\n",
    "\n",
    "x,y4"
   ]
  },
  {
   "cell_type": "code",
   "execution_count": 113,
   "id": "dc4622bf",
   "metadata": {},
   "outputs": [],
   "source": [
    "#Si aumenta x, la y puede aumentar o disminuir, lo cual concuerda con lo representado en la gráfica. \n"
   ]
  },
  {
   "cell_type": "markdown",
   "id": "9366e992",
   "metadata": {},
   "source": [
    "### 3.6. As x gets very small (big negative), what happens to  𝑦  go in each"
   ]
  },
  {
   "cell_type": "code",
   "execution_count": 115,
   "id": "7941c1ac",
   "metadata": {},
   "outputs": [],
   "source": [
    "# Para y2"
   ]
  },
  {
   "cell_type": "code",
   "execution_count": 124,
   "id": "04c14ca3",
   "metadata": {},
   "outputs": [
    {
     "data": {
      "text/plain": [
       "(-8, 78)"
      ]
     },
     "execution_count": 124,
     "metadata": {},
     "output_type": "execute_result"
    }
   ],
   "source": [
    "x = -8\n",
    "\n",
    "y2 = x ** 2 - 3 * x - 10\n",
    "\n",
    "x,y2"
   ]
  },
  {
   "cell_type": "code",
   "execution_count": 127,
   "id": "5e373759",
   "metadata": {},
   "outputs": [
    {
     "data": {
      "text/plain": [
       "(-40, 1710)"
      ]
     },
     "execution_count": 127,
     "metadata": {},
     "output_type": "execute_result"
    }
   ],
   "source": [
    "x = -40 \n",
    "\n",
    "y2 = x ** 2 - 3 * x - 10\n",
    "\n",
    "x,y2"
   ]
  },
  {
   "cell_type": "code",
   "execution_count": 128,
   "id": "ed9aeb24",
   "metadata": {},
   "outputs": [
    {
     "data": {
      "text/plain": [
       "(-100, 10290)"
      ]
     },
     "execution_count": 128,
     "metadata": {},
     "output_type": "execute_result"
    }
   ],
   "source": [
    "x = -100 \n",
    "\n",
    "y2 = x ** 2 - 3 * x - 10\n",
    "\n",
    "x,y2"
   ]
  },
  {
   "cell_type": "code",
   "execution_count": 129,
   "id": "f97550d0",
   "metadata": {},
   "outputs": [],
   "source": [
    "# Conforme la x se va haciendo más pequeña, más grande se hace la y, encima  parece que de una manera exponencial."
   ]
  },
  {
   "cell_type": "code",
   "execution_count": null,
   "id": "67628d80",
   "metadata": {},
   "outputs": [],
   "source": [
    "# Para y3"
   ]
  },
  {
   "cell_type": "code",
   "execution_count": 130,
   "id": "b1099a1e",
   "metadata": {},
   "outputs": [
    {
     "data": {
      "text/plain": [
       "(-8, -679)"
      ]
     },
     "execution_count": 130,
     "metadata": {},
     "output_type": "execute_result"
    }
   ],
   "source": [
    "x = -8 \n",
    "\n",
    "y3 = x ** 3 - 2 * x ** 2 + 5 * x +1\n",
    "\n",
    "x,y3"
   ]
  },
  {
   "cell_type": "code",
   "execution_count": 131,
   "id": "31d8b1d9",
   "metadata": {},
   "outputs": [
    {
     "data": {
      "text/plain": [
       "(-40, -67399)"
      ]
     },
     "execution_count": 131,
     "metadata": {},
     "output_type": "execute_result"
    }
   ],
   "source": [
    "x = -40 \n",
    "\n",
    "y3 = x ** 3 - 2 * x ** 2 + 5 * x +1\n",
    "\n",
    "x,y3"
   ]
  },
  {
   "cell_type": "code",
   "execution_count": 133,
   "id": "06dbcd87",
   "metadata": {},
   "outputs": [
    {
     "data": {
      "text/plain": [
       "(-100, -1020499)"
      ]
     },
     "execution_count": 133,
     "metadata": {},
     "output_type": "execute_result"
    }
   ],
   "source": [
    "x = -100 \n",
    "\n",
    "y3 = x ** 3 - 2 * x ** 2 + 5 * x +1\n",
    "\n",
    "x,y3"
   ]
  },
  {
   "cell_type": "code",
   "execution_count": 139,
   "id": "eaa46761",
   "metadata": {},
   "outputs": [],
   "source": [
    "# Conforme la x se va haciendo más pequeña, más pequeña se hace la y, encima  parece que de una manera exponencial."
   ]
  },
  {
   "cell_type": "code",
   "execution_count": 119,
   "id": "146be454",
   "metadata": {},
   "outputs": [],
   "source": [
    "# Para y4"
   ]
  },
  {
   "cell_type": "code",
   "execution_count": 135,
   "id": "b9ed3548",
   "metadata": {},
   "outputs": [
    {
     "data": {
      "text/plain": [
       "(-8, 4553)"
      ]
     },
     "execution_count": 135,
     "metadata": {},
     "output_type": "execute_result"
    }
   ],
   "source": [
    "x = -8 \n",
    "\n",
    "y4 = x ** 4 - x ** 3 - x ** 2 - x + 1\n",
    "\n",
    "x,y4"
   ]
  },
  {
   "cell_type": "code",
   "execution_count": 136,
   "id": "f2b3a7b5",
   "metadata": {},
   "outputs": [
    {
     "data": {
      "text/plain": [
       "(-40, 2622441)"
      ]
     },
     "execution_count": 136,
     "metadata": {},
     "output_type": "execute_result"
    }
   ],
   "source": [
    "x = -40 \n",
    "\n",
    "y4 = x ** 4 - x ** 3 - x ** 2 - x + 1\n",
    "\n",
    "x,y4"
   ]
  },
  {
   "cell_type": "code",
   "execution_count": 137,
   "id": "c9a87501",
   "metadata": {},
   "outputs": [
    {
     "data": {
      "text/plain": [
       "(-100, 100990101)"
      ]
     },
     "execution_count": 137,
     "metadata": {},
     "output_type": "execute_result"
    }
   ],
   "source": [
    "x = -100 \n",
    "\n",
    "y4 = x ** 4 - x ** 3 - x ** 2 - x + 1\n",
    "\n",
    "x,y4"
   ]
  },
  {
   "cell_type": "code",
   "execution_count": 140,
   "id": "6f00978c",
   "metadata": {},
   "outputs": [],
   "source": [
    "# Conforme la x se va haciendo más pequeña, más grande se hace la y, encima  parece que de una manera exponencial."
   ]
  },
  {
   "cell_type": "code",
   "execution_count": null,
   "id": "83b689fd",
   "metadata": {},
   "outputs": [],
   "source": []
  },
  {
   "cell_type": "code",
   "execution_count": null,
   "id": "2591a965",
   "metadata": {},
   "outputs": [],
   "source": []
  },
  {
   "cell_type": "code",
   "execution_count": null,
   "id": "76835222",
   "metadata": {},
   "outputs": [],
   "source": []
  },
  {
   "cell_type": "code",
   "execution_count": 141,
   "id": "aa28966a",
   "metadata": {},
   "outputs": [],
   "source": [
    "# Otro notebook"
   ]
  }
 ],
 "metadata": {
  "kernelspec": {
   "display_name": "Python 3",
   "language": "python",
   "name": "python3"
  },
  "language_info": {
   "codemirror_mode": {
    "name": "ipython",
    "version": 3
   },
   "file_extension": ".py",
   "mimetype": "text/x-python",
   "name": "python",
   "nbconvert_exporter": "python",
   "pygments_lexer": "ipython3",
   "version": "3.8.5"
  }
 },
 "nbformat": 4,
 "nbformat_minor": 5
}
